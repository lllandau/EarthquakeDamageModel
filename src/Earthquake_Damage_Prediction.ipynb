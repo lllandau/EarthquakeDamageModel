{
 "cells": [
  {
   "cell_type": "code",
   "execution_count": null,
   "id": "cdac15c8-6818-4ae2-ae16-5e66a7c0919f",
   "metadata": {},
   "outputs": [],
   "source": [
    "#imported train_values, test_values and train_label \n",
    "#merged train_values and label\n",
    "# extracted target and features, where damage_grade is the target\n",
    "import pandas as pd\n",
    "train_values= pd.read_csv('../data/train_values.csv')\n",
    "\n",
    "label=pd.read_csv('../data/train_labels.csv')\n",
    "test_features=pd.read_csv('../data/test_values.csv')\n",
    "\n",
    "merged_data = pd.merge(train_values, label, on=[\"building_id\"])\n",
    "target = merged_data.loc[:, \"damage_grade\"]\n",
    "features = merged_data.drop(columns=\"damage_grade\")\n"
   ]
  },
  {
   "cell_type": "markdown",
   "id": "55fbbcff-7b69-4572-aa4e-752e10b96d84",
   "metadata": {},
   "source": [
    "#roof_type=3\n",
    "#ground_floor_type=5\n",
    "#other_floor_type=4\n",
    "#position=4\n",
    "#plan_configuration=10\n",
    "#legal_ownership_status=4"
   ]
  },
  {
   "cell_type": "code",
   "execution_count": null,
   "id": "fc3fc40e-35b3-4e84-80e7-38f48f0621fb",
   "metadata": {},
   "outputs": [],
   "source": [
    "#We encoded all categorical values, the geolocation and plan_configuration with JamesSteinerEncoding, the other ones with OneHotEncoding\n",
    "#With JamesSteinerEncoding we were able to account for different sample sizes in each geolocation area. we also encoded plan_configuration \n",
    "#just for conveniance and we didn't want to OneHotEncode it\n",
    "#We applied it to the encoded training as well to the encoded test set\n",
    "import category_encoders as ce\n",
    "encoder = ce.JamesSteinEncoder(cols=['geo_level_1_id','geo_level_2_id','geo_level_3_id','plan_configuration'])\n",
    "encoder.fit(features, target)\n",
    "\n",
    "X_encoded = encoder.transform(features)\n",
    "X_test_encoded=encoder.transform(test_features)\n",
    "encoder=ce.OneHotEncoder(cols=['land_surface_condition','foundation_type',\\\n",
    "                               'roof_type','ground_floor_type','other_floor_type','position','legal_ownership_status'])\n",
    "encoder.fit(X_encoded)\n",
    "X_encoded = encoder.transform(X_encoded)\n",
    "X_test_encoded = encoder.transform(X_test_encoded)"
   ]
  },
  {
   "cell_type": "code",
   "execution_count": null,
   "id": "cd105610-8ffc-4fe1-b859-1749b314c216",
   "metadata": {},
   "outputs": [],
   "source": [
    "#We applied RandomForrestClassifier to the training set...\n",
    "from sklearn.ensemble import RandomForestClassifier\n",
    "rfc = RandomForestClassifier(random_state=42, oob_score=True, n_estimators=180, max_depth=7)\n",
    "fitted_model = rfc.fit(X_cleaned, target)\n",
    "rfc.oob_score_\n"
   ]
  },
  {
   "cell_type": "code",
   "execution_count": null,
   "id": "8e94aa5e-2acf-4fff-aad1-e25bd0df15e2",
   "metadata": {},
   "outputs": [],
   "source": [
    "# and predicted the the damage with the test set.\n",
    "damage_grade_pred=rfc.predict(X_test_cleaned)"
   ]
  },
  {
   "cell_type": "code",
   "execution_count": null,
   "id": "c58c3130-475f-4e69-8a1f-bd129b46489c",
   "metadata": {},
   "outputs": [],
   "source": [
    "#get building_id and damage_grade into the same dataframe\n",
    "result = pd.DataFrame(predictions, columns=['predictions'])\n",
    "\n",
    "result = X_test_cleaned.assign(damage_grade=damage_grade_pred)\n",
    "prediction_df = result.loc[:,['building_id', 'damage_grade']]\n",
    "prediction_df\n"
   ]
  },
  {
   "cell_type": "code",
   "execution_count": null,
   "id": "b7222c68-e962-4808-bb1b-773597538ecf",
   "metadata": {},
   "outputs": [],
   "source": [
    "# Write csv-file\n",
    "from pathlib import Path\n",
    "filepath = Path('third_submit.csv')\n",
    "prediction_df.to_csv(filepath, index=False)"
   ]
  }
 ],
 "metadata": {
  "kernelspec": {
   "display_name": "Python 3 (ipykernel)",
   "language": "python",
   "name": "python3"
  },
  "language_info": {
   "codemirror_mode": {
    "name": "ipython",
    "version": 3
   },
   "file_extension": ".py",
   "mimetype": "text/x-python",
   "name": "python",
   "nbconvert_exporter": "python",
   "pygments_lexer": "ipython3",
   "version": "3.9.12"
  }
 },
 "nbformat": 4,
 "nbformat_minor": 5
}
