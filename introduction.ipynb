{
 "cells": [
  {
   "cell_type": "markdown",
   "id": "1c7a9eea-2319-4555-b181-e4d0bde1d3ca",
   "metadata": {},
   "source": [
    "# Minicompetition"
   ]
  },
  {
   "cell_type": "markdown",
   "id": "5df51075-6eb6-4bda-ae9b-2017ae52652f",
   "metadata": {},
   "source": [
    "## Summary - Workflow"
   ]
  },
  {
   "cell_type": "markdown",
   "id": "e36d5677-d7fb-46be-965b-91047245ab54",
   "metadata": {},
   "source": [
    "### 0. Feature Exploration"
   ]
  },
  {
   "cell_type": "markdown",
   "id": "ada59a88-e1ea-4f28-8918-ec7b48e7abd5",
   "metadata": {},
   "source": [
    "### 1. Created - Basemodel (RandomForestClassifier)"
   ]
  },
  {
   "cell_type": "markdown",
   "id": "e088631e-fd38-43b9-bb02-b49be0715d3e",
   "metadata": {},
   "source": [
    "### 2. Encoded Geolocation-Features and Categorical Features with JamesSteinEncoder and DummyEncoding"
   ]
  },
  {
   "cell_type": "markdown",
   "id": "a09f89c5-f1f0-4779-9cb2-bd1b24e40945",
   "metadata": {},
   "source": [
    "### 3. Pruned Features"
   ]
  },
  {
   "cell_type": "markdown",
   "id": "98f11ebc-6429-4f92-8f98-6e72a78eae52",
   "metadata": {},
   "source": [
    "### 4. Optimized Hyperparameters\n"
   ]
  },
  {
   "cell_type": "markdown",
   "id": "76ff18bc-9be5-4cc5-982a-842bfd611dae",
   "metadata": {},
   "source": [
    "   "
   ]
  },
  {
   "cell_type": "markdown",
   "id": "0378df59-13bf-45f2-be79-cba949adcb63",
   "metadata": {},
   "source": [
    "    "
   ]
  },
  {
   "cell_type": "markdown",
   "id": "d6c78492-c550-41fa-ac95-da9617aa8e60",
   "metadata": {},
   "source": [
    "   "
   ]
  },
  {
   "cell_type": "markdown",
   "id": "42cc287b-69b1-4599-bfb8-710994c81d4c",
   "metadata": {},
   "source": [
    "## Current Best Score:  0.7428"
   ]
  }
 ],
 "metadata": {
  "kernelspec": {
   "display_name": "Python 3",
   "language": "python",
   "name": "python3"
  },
  "language_info": {
   "codemirror_mode": {
    "name": "ipython",
    "version": 3
   },
   "file_extension": ".py",
   "mimetype": "text/x-python",
   "name": "python",
   "nbconvert_exporter": "python",
   "pygments_lexer": "ipython3",
   "version": "3.8.3"
  }
 },
 "nbformat": 4,
 "nbformat_minor": 5
}
